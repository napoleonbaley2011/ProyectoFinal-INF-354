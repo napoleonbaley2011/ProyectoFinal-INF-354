{
  "nbformat": 4,
  "nbformat_minor": 0,
  "metadata": {
    "colab": {
      "provenance": []
    },
    "kernelspec": {
      "name": "python3",
      "display_name": "Python 3"
    },
    "language_info": {
      "name": "python"
    }
  },
  "cells": [
    {
      "cell_type": "markdown",
      "source": [
        "# **Clasificación de salud fetal**"
      ],
      "metadata": {
        "id": "3PMGaCvnfqKn"
      }
    },
    {
      "cell_type": "code",
      "source": [
        "import numpy as np\n",
        "import pandas as pd\n",
        "import tensorflow as tf\n",
        "from sklearn.decomposition import PCA\n",
        "from sklearn.preprocessing import StandardScaler\n",
        "from sklearn.model_selection import train_test_split\n"
      ],
      "metadata": {
        "id": "IZ4lZk-VK2U7"
      },
      "execution_count": 11,
      "outputs": []
    },
    {
      "cell_type": "code",
      "source": [
        "dataset = pd.read_csv('fetal_health.csv')"
      ],
      "metadata": {
        "id": "5fCRFPOxK8B6"
      },
      "execution_count": 12,
      "outputs": []
    },
    {
      "cell_type": "code",
      "source": [
        "columnas_X = [0, 2, 3, 4, 5, 6, 7, 9, 12, 13]\n",
        "X = dataset.iloc[:, columnas_X]\n",
        "y = dataset.iloc[:, -1]\n",
        "\n",
        "sc = StandardScaler()\n",
        "X_scaled = sc.fit_transform(X)"
      ],
      "metadata": {
        "id": "wocYYy57LD0s"
      },
      "execution_count": 13,
      "outputs": []
    },
    {
      "cell_type": "code",
      "source": [
        "from sklearn.preprocessing import OneHotEncoder\n",
        "encoder = OneHotEncoder()\n",
        "y_ = np.array(y)\n",
        "y_ = encoder.fit_transform(y_.reshape(-1,1)).toarray()\n",
        "print(y_)"
      ],
      "metadata": {
        "colab": {
          "base_uri": "https://localhost:8080/"
        },
        "id": "zEzHBHbNL_Zt",
        "outputId": "059a28d8-6eaf-42cb-a784-1c0a2eeb7520"
      },
      "execution_count": 15,
      "outputs": [
        {
          "output_type": "stream",
          "name": "stdout",
          "text": [
            "[[0. 1. 0.]\n",
            " [1. 0. 0.]\n",
            " [1. 0. 0.]\n",
            " ...\n",
            " [0. 1. 0.]\n",
            " [0. 1. 0.]\n",
            " [1. 0. 0.]]\n"
          ]
        }
      ]
    },
    {
      "cell_type": "code",
      "source": [
        "y = y_"
      ],
      "metadata": {
        "id": "bSfe9LcNML2M"
      },
      "execution_count": 16,
      "outputs": []
    },
    {
      "cell_type": "code",
      "source": [
        "num_componentes = [10, 9, 5, 3]\n",
        "resultados = []\n",
        "\n",
        "for n in num_componentes:\n",
        "    pca = PCA(n_components=n)\n",
        "    X_pca = pca.fit_transform(X_scaled)\n",
        "\n",
        "    # Dividir los datos en conjuntos de entrenamiento y prueba\n",
        "    X_train, X_test, y_train, y_test = train_test_split(X_pca, y, test_size=0.2, random_state=42)\n",
        "\n",
        "    # Crear y entrenar el modelo de red neuronal\n",
        "    model = tf.keras.models.Sequential()\n",
        "    model.add(tf.keras.layers.Dense(units=10, activation='relu'))\n",
        "    model.add(tf.keras.layers.Dense(units=6, activation='relu'))\n",
        "    model.add(tf.keras.layers.Dense(units=6, activation='relu'))\n",
        "    model.add(tf.keras.layers.Dense(units=3, activation='softmax'))\n",
        "    model.compile(optimizer='adam', loss='categorical_crossentropy', metrics=['accuracy'])\n",
        "    model.fit(X_train, y_train, epochs=10, batch_size=32)\n",
        "\n",
        "    # Evaluar el modelo en el conjunto de prueba\n",
        "    _, accuracy = model.evaluate(X_test, y_test)\n",
        "\n",
        "    resultados.append(accuracy)\n"
      ],
      "metadata": {
        "colab": {
          "base_uri": "https://localhost:8080/"
        },
        "id": "U-KQs03DLIsj",
        "outputId": "7f9b7c60-b416-4d2e-97a4-71031f6673cd"
      },
      "execution_count": 20,
      "outputs": [
        {
          "output_type": "stream",
          "name": "stdout",
          "text": [
            "Epoch 1/10\n",
            "54/54 [==============================] - 1s 2ms/step - loss: 1.1146 - accuracy: 0.5100\n",
            "Epoch 2/10\n",
            "54/54 [==============================] - 0s 2ms/step - loss: 0.8990 - accuracy: 0.7506\n",
            "Epoch 3/10\n",
            "54/54 [==============================] - 0s 2ms/step - loss: 0.7428 - accuracy: 0.7835\n",
            "Epoch 4/10\n",
            "54/54 [==============================] - 0s 2ms/step - loss: 0.6282 - accuracy: 0.7947\n",
            "Epoch 5/10\n",
            "54/54 [==============================] - 0s 2ms/step - loss: 0.5356 - accuracy: 0.8106\n",
            "Epoch 6/10\n",
            "54/54 [==============================] - 0s 2ms/step - loss: 0.4744 - accuracy: 0.8194\n",
            "Epoch 7/10\n",
            "54/54 [==============================] - 0s 2ms/step - loss: 0.4381 - accuracy: 0.8306\n",
            "Epoch 8/10\n",
            "54/54 [==============================] - 0s 2ms/step - loss: 0.4151 - accuracy: 0.8335\n",
            "Epoch 9/10\n",
            "54/54 [==============================] - 0s 2ms/step - loss: 0.3981 - accuracy: 0.8347\n",
            "Epoch 10/10\n",
            "54/54 [==============================] - 0s 2ms/step - loss: 0.3854 - accuracy: 0.8335\n",
            "14/14 [==============================] - 0s 2ms/step - loss: 0.4239 - accuracy: 0.8216\n",
            "Epoch 1/10\n",
            "54/54 [==============================] - 1s 2ms/step - loss: 0.8906 - accuracy: 0.6894\n",
            "Epoch 2/10\n",
            "54/54 [==============================] - 0s 2ms/step - loss: 0.6634 - accuracy: 0.7776\n",
            "Epoch 3/10\n",
            "54/54 [==============================] - 0s 2ms/step - loss: 0.5591 - accuracy: 0.7776\n",
            "Epoch 4/10\n",
            "54/54 [==============================] - 0s 2ms/step - loss: 0.5063 - accuracy: 0.7800\n",
            "Epoch 5/10\n",
            "54/54 [==============================] - 0s 2ms/step - loss: 0.4746 - accuracy: 0.7865\n",
            "Epoch 6/10\n",
            "54/54 [==============================] - 0s 2ms/step - loss: 0.4515 - accuracy: 0.7888\n",
            "Epoch 7/10\n",
            "54/54 [==============================] - 0s 2ms/step - loss: 0.4343 - accuracy: 0.8000\n",
            "Epoch 8/10\n",
            "54/54 [==============================] - 0s 2ms/step - loss: 0.4197 - accuracy: 0.8118\n",
            "Epoch 9/10\n",
            "54/54 [==============================] - 0s 2ms/step - loss: 0.4053 - accuracy: 0.8135\n",
            "Epoch 10/10\n",
            "54/54 [==============================] - 0s 2ms/step - loss: 0.3937 - accuracy: 0.8141\n",
            "14/14 [==============================] - 0s 2ms/step - loss: 0.4106 - accuracy: 0.7958\n",
            "Epoch 1/10\n",
            "54/54 [==============================] - 1s 3ms/step - loss: 1.1110 - accuracy: 0.2835\n",
            "Epoch 2/10\n",
            "54/54 [==============================] - 0s 3ms/step - loss: 0.9764 - accuracy: 0.7453\n",
            "Epoch 3/10\n",
            "54/54 [==============================] - 0s 3ms/step - loss: 0.8508 - accuracy: 0.7829\n",
            "Epoch 4/10\n",
            "54/54 [==============================] - 0s 2ms/step - loss: 0.7174 - accuracy: 0.7812\n",
            "Epoch 5/10\n",
            "54/54 [==============================] - 0s 2ms/step - loss: 0.6019 - accuracy: 0.8076\n",
            "Epoch 6/10\n",
            "54/54 [==============================] - 0s 2ms/step - loss: 0.5278 - accuracy: 0.8282\n",
            "Epoch 7/10\n",
            "54/54 [==============================] - 0s 2ms/step - loss: 0.4858 - accuracy: 0.8318\n",
            "Epoch 8/10\n",
            "54/54 [==============================] - 0s 2ms/step - loss: 0.4551 - accuracy: 0.8371\n",
            "Epoch 9/10\n",
            "54/54 [==============================] - 0s 2ms/step - loss: 0.4296 - accuracy: 0.8400\n",
            "Epoch 10/10\n",
            "54/54 [==============================] - 0s 2ms/step - loss: 0.4051 - accuracy: 0.8524\n",
            "14/14 [==============================] - 0s 2ms/step - loss: 0.4158 - accuracy: 0.8615\n",
            "Epoch 1/10\n",
            "54/54 [==============================] - 1s 2ms/step - loss: 1.0380 - accuracy: 0.6694\n",
            "Epoch 2/10\n",
            "54/54 [==============================] - 0s 2ms/step - loss: 0.8199 - accuracy: 0.7841\n",
            "Epoch 3/10\n",
            "54/54 [==============================] - 0s 2ms/step - loss: 0.6579 - accuracy: 0.7929\n",
            "Epoch 4/10\n",
            "54/54 [==============================] - 0s 2ms/step - loss: 0.5534 - accuracy: 0.8071\n",
            "Epoch 5/10\n",
            "54/54 [==============================] - 0s 2ms/step - loss: 0.4909 - accuracy: 0.8118\n",
            "Epoch 6/10\n",
            "54/54 [==============================] - 0s 2ms/step - loss: 0.4565 - accuracy: 0.8176\n",
            "Epoch 7/10\n",
            "54/54 [==============================] - 0s 2ms/step - loss: 0.4358 - accuracy: 0.8194\n",
            "Epoch 8/10\n",
            "54/54 [==============================] - 0s 2ms/step - loss: 0.4229 - accuracy: 0.8306\n",
            "Epoch 9/10\n",
            "54/54 [==============================] - 0s 2ms/step - loss: 0.4130 - accuracy: 0.8412\n",
            "Epoch 10/10\n",
            "54/54 [==============================] - 0s 2ms/step - loss: 0.4055 - accuracy: 0.8435\n",
            "14/14 [==============================] - 0s 2ms/step - loss: 0.4159 - accuracy: 0.8545\n"
          ]
        }
      ]
    },
    {
      "cell_type": "code",
      "source": [
        "for i, n in enumerate(num_componentes):\n",
        "    print(f\"Número de componentes: {n}, Accuracy: {resultados[i]}\")\n"
      ],
      "metadata": {
        "colab": {
          "base_uri": "https://localhost:8080/"
        },
        "id": "5TWfAqdIM9ik",
        "outputId": "ad28d77e-1882-4810-b6d2-ef7d55312e0c"
      },
      "execution_count": 21,
      "outputs": [
        {
          "output_type": "stream",
          "name": "stdout",
          "text": [
            "Número de componentes: 10, Accuracy: 0.8215962648391724\n",
            "Número de componentes: 9, Accuracy: 0.7957746386528015\n",
            "Número de componentes: 5, Accuracy: 0.8615023493766785\n",
            "Número de componentes: 3, Accuracy: 0.8544601202011108\n"
          ]
        }
      ]
    }
  ]
}